{
 "cells": [
  {
   "cell_type": "markdown",
   "id": "chubby-natural",
   "metadata": {},
   "source": [
    "## This is my crawler for Amazon.com"
   ]
  },
  {
   "cell_type": "markdown",
   "id": "listed-brown",
   "metadata": {},
   "source": [
    "### The crawler will built in python using;\n",
    "- Functional Programming\n",
    "- Object Oriented Programming"
   ]
  },
  {
   "cell_type": "markdown",
   "id": "aquatic-prerequisite",
   "metadata": {},
   "source": [
    "### First we import libraries for the job"
   ]
  },
  {
   "cell_type": "code",
   "execution_count": 1,
   "id": "sized-doctor",
   "metadata": {},
   "outputs": [],
   "source": [
    "from bs4 import BeautifulSoup as bs\n",
    "import requests\n",
    "import time\n",
    "import re\n",
    "import pandas as pd\n",
    "import numpy as np\n",
    "import matplotlib.pyplot as plt\n",
    "from selenium import webdriver\n",
    "from selenium.webdriver.support.ui import WebDriverWait \n",
    "from selenium.webdriver.common.by import By     \n",
    "from selenium.webdriver.support import expected_conditions as EC\n",
    "from selenium.webdriver.firefox.options import Options"
   ]
  },
  {
   "cell_type": "code",
   "execution_count": null,
   "id": "middle-characteristic",
   "metadata": {},
   "outputs": [],
   "source": []
  },
  {
   "cell_type": "markdown",
   "id": "painful-riverside",
   "metadata": {},
   "source": [
    "### Then we create our header variable, This is for sites that return something different from what is supposed to be there, maybe as a result of client side languages or it was deliberate to ward off harmfull web crawlers."
   ]
  },
  {
   "cell_type": "code",
   "execution_count": 2,
   "id": "future-roads",
   "metadata": {},
   "outputs": [],
   "source": [
    "HEADERS = ({'User-Agent':\n",
    "        'Mozilla/5.0 (X11; Linux x86_64)\\\n",
    "        AppleWebKit/537.36 (KHTML, like Gecko)\\\n",
    "        Chrome/44.0.2403.157 Safari/537.36',\n",
    "        'Accept-Language': 'en-US, en;q=0.5'})"
   ]
  },
  {
   "cell_type": "code",
   "execution_count": 78,
   "id": "ordered-registration",
   "metadata": {},
   "outputs": [],
   "source": []
  },
  {
   "cell_type": "markdown",
   "id": "unique-slide",
   "metadata": {},
   "source": [
    "## Scraping the site using functions"
   ]
  },
  {
   "cell_type": "code",
   "execution_count": 77,
   "id": "critical-creature",
   "metadata": {},
   "outputs": [],
   "source": [
    "def amazon_product_details(url):\n",
    "    amazon = {}\n",
    "    driver = webdriver.Chrome(executable_path=r'C:\\Users\\Jchukwuedozi\\Downloads\\chromedriver_win32\\chromedriver.exe')\n",
    "    driver.get(url)\n",
    "    page_source = driver.page_source\n",
    "    soup = bs(page_source)\n",
    "    try:\n",
    "        amazon['Title'] = soup.find(id='productTitle').get_text(' ', strip=True)\n",
    "    except Exception:\n",
    "        amazon['Title'] = None\n",
    "    try:\n",
    "        amazon['Price'] = soup.find(class_='a-color-price').get_text(' ', strip=True)\n",
    "    except Exception:\n",
    "        amazon['Price'] = None\n",
    "    try:\n",
    "        amazon['Review'] = soup.find(class_='a-icon-alt').get_text().split(' ')[0]\n",
    "    except Exception:\n",
    "        amazon['Review'] = None\n",
    "    try:\n",
    "        amazon['Rating'] = soup.find(id='acrCustomerReviewText').get_text().split(' ')[0]\n",
    "    except Exception:\n",
    "        amazon['Rating'] = None\n",
    "    try:\n",
    "        table = soup.find('table', class_='a-spacing-micro').find_all('tr')\n",
    "    except Exception:\n",
    "        print(\"a-spacing-micro can't be found\")\n",
    "    else:\n",
    "        for row in table:\n",
    "            content = row.find_all('td')\n",
    "            key = content[0].get_text(' ', strip=True)\n",
    "            value = content[1].get_text(' ', strip=True)\n",
    "            amazon[key] = value\n",
    "    \n",
    "    try:\n",
    "        product_details = soup.find('div', id='detailBullets_feature_div'\n",
    "                ).find('ul', class_='a-unordered-list')\n",
    "    except Exception:\n",
    "        print(\"detailBullets_feature_div can't be found\")\n",
    "    else:\n",
    "        for category in product_details.find_all('li'):\n",
    "            product_key = [item.get_text(' ', strip=True).split('\\n')[0] for item in category.find_all(class_='a-text-bold')]\n",
    "            product_value = [item.find_next_sibling().get_text() for item in category.find_all(class_='a-text-bold')]\n",
    "            for key, value in zip(product_key, product_value):\n",
    "                amazon[key] = value\n",
    "    return amazon    "
   ]
  },
  {
   "cell_type": "code",
   "execution_count": 84,
   "id": "little-coordinator",
   "metadata": {},
   "outputs": [],
   "source": [
    "def get_all_products(url, page_num):\n",
    "    all_amazon_products = []\n",
    "    driver = webdriver.Chrome(executable_path=r'C:\\Users\\Jchukwuedozi\\Downloads\\chromedriver_win32\\chromedriver.exe')\n",
    "    driver.get(url)\n",
    "    page_source = driver.page_source\n",
    "    soup = bs(page_source)\n",
    "    pages = int(soup.find_all('li', class_='a-disabled')[-1].get_text())\n",
    "    for page in range(2):\n",
    "        links = [i.get_attribute('href') for i in driver.find_elements_by_css_selector('.a-link-normal.s-no-outline')]\n",
    "        for link in links:\n",
    "            print(f'scraping... {link}')\n",
    "            all_amazon_products.append(amazon_product_details(link))\n",
    "        page_num +=1\n",
    "        url = f'https://www.amazon.com/s?i=specialty-aps&rh=n%3A18505451011&fs=true&page={page_num}&qid=1625791103&ref=sr_pg_2'\n",
    "        driver.get(url)\n",
    "        page_source = driver.page_source\n",
    "        soup = bs(page_source) \n",
    "    return all_amazon_products"
   ]
  },
  {
   "cell_type": "code",
   "execution_count": 83,
   "id": "compliant-january",
   "metadata": {
    "collapsed": true
   },
   "outputs": [
    {
     "name": "stdout",
     "output_type": "stream",
     "text": [
      "scraping... https://www.amazon.com/gp/slredirect/picassoRedirect.html/ref=pa_sp_atf_browse_specialty-aps_sr_pg2_1?ie=UTF8&adId=A0413658A7ML231P5T28&url=%2FHada-Labo-Tokyo-Anti-Aging-Hydrator%2Fdp%2FB00IO3DMXM%2Fref%3Dsr_1_17_sspa%3Fdchild%3D1%26qid%3D1625966984%26sr%3D8-17-spons%26psc%3D1&qualifier=1625966984&id=4812094197029066&widgetName=sp_atf_browse\n",
      "'NoneType' object has no attribute 'find_all'\n",
      "I got here\n",
      "scraping... https://www.amazon.com/gp/slredirect/picassoRedirect.html/ref=pa_sp_atf_browse_specialty-aps_sr_pg2_1?ie=UTF8&adId=A033975517N9XRTX6Z80N&url=%2FDesign-Essentials-Enhancing-Curls-Almond-Collection%2Fdp%2FB008074JOI%2Fref%3Dsr_1_18_sspa%3Fdchild%3D1%26qid%3D1625966984%26sr%3D8-18-spons%26psc%3D1&qualifier=1625966984&id=4812094197029066&widgetName=sp_atf_browse\n",
      "I got here\n",
      "scraping... https://www.amazon.com/Dove-Body-Wash-Pump-Moisture/dp/B00MEDOY2G/ref=sr_1_19?dchild=1&qid=1625966984&sr=8-19\n",
      "'NoneType' object has no attribute 'find'\n",
      "I got here\n",
      "scraping... https://www.amazon.com/Philips-Sonicare-replacement-toothbrush-HX9023/dp/B078BF27BF/ref=sr_1_20?dchild=1&qid=1625966984&sr=8-20\n",
      "I got here\n",
      "scraping... https://www.amazon.com/CHI-Guard-Thermal-Protection-Spray/dp/B002RS6JSA/ref=sr_1_21?dchild=1&qid=1625966984&sr=8-21\n",
      "I got here\n",
      "scraping... https://www.amazon.com/Colgate-Extra-Clean-Toothbrush-Count/dp/B00CC6XSSQ/ref=sr_1_22?dchild=1&qid=1625966984&sr=8-22\n",
      "I got here\n",
      "scraping... https://www.amazon.com/Strip-Eyelash-Adhesive-Clear-0-176/dp/B01BMMOAFU/ref=sr_1_23?dchild=1&qid=1625966984&sr=8-23\n",
      "I got here\n",
      "scraping... https://www.amazon.com/Tweezerman-Stainless-Steel-Slant-Tweezer/dp/B000EMYJ88/ref=sr_1_24?dchild=1&qid=1625966984&sr=8-24\n",
      "'NoneType' object has no attribute 'find_all'\n",
      "I got here\n",
      "scraping... https://www.amazon.com/Colgate-Cavity-Protection-Toothpaste-Fluoride/dp/B01BNEWDFQ/ref=sr_1_25?dchild=1&qid=1625966984&sr=8-25\n",
      "I got here\n",
      "scraping... https://www.amazon.com/Softsoap-Liquid-Hand-Fresh-Breeze/dp/B079FV6PRH/ref=sr_1_26?dchild=1&qid=1625966984&sr=8-26\n",
      "I got here\n",
      "scraping... https://www.amazon.com/gp/slredirect/picassoRedirect.html/ref=pa_sp_mtf_browse_specialty-aps_sr_pg2_1?ie=UTF8&adId=A0535023242IVH5XYYZRR&url=%2FWaterpik174-Cordless-Express-Water-Flosser%2Fdp%2FB07DQSC9B5%2Fref%3Dsr_1_27_sspa%3Fdchild%3D1%26qid%3D1625966984%26sr%3D8-27-spons%26psc%3D1&qualifier=1625966984&id=4812094197029066&widgetName=sp_mtf_browse\n",
      "I got here\n",
      "scraping... https://www.amazon.com/gp/slredirect/picassoRedirect.html/ref=pa_sp_mtf_browse_specialty-aps_sr_pg2_1?ie=UTF8&adId=A07445501OKQ32B28T3QX&url=%2FWunderbrow-Perfect-Eyebrows-Under-Minutes%2Fdp%2FB00UYY2GUO%2Fref%3Dsr_1_28_sspa%3Fdchild%3D1%26qid%3D1625966984%26sr%3D8-28-spons%26psc%3D1&qualifier=1625966984&id=4812094197029066&widgetName=sp_mtf_browse\n",
      "I got here\n",
      "scraping... https://www.amazon.com/Philips-Norelco-MG7750-49-Rechargeable/dp/B07145GM4B/ref=sr_1_29?dchild=1&qid=1625966984&sr=8-29\n",
      "'NoneType' object has no attribute 'find_all'\n",
      "I got here\n",
      "scraping... https://www.amazon.com/Crest-White-Toothpaste-Radiant-Mint/dp/B01KZOTRG8/ref=sr_1_30?dchild=1&qid=1625966984&sr=8-30\n",
      "I got here\n",
      "scraping... https://www.amazon.com/Sensodyne-Pronamel-Whitening-Strengthening-Toothpaste/dp/B0762LYFKP/ref=sr_1_31?dchild=1&qid=1625966984&rdc=1&sr=8-31\n",
      "I got here\n",
      "scraping... https://www.amazon.com/Remington-Curling-Technology-Controls-CI9538/dp/B0050QJHTO/ref=sr_1_32?dchild=1&qid=1625966984&sr=8-32\n",
      "I got here\n",
      "scraping... https://www.amazon.com/CeraVe-Facial-Moisturizing-Lotion-Lightweight/dp/B00365DABC/ref=sr_1_33?dchild=1&qid=1625966984&sr=8-33\n",
      "I got here\n",
      "scraping... https://www.amazon.com/Goody-Ouchless-Womens-Braided-Elastic/dp/B00DFSHD5O/ref=sr_1_34?dchild=1&qid=1625966984&sr=8-34\n",
      "I got here\n",
      "scraping... https://www.amazon.com/Bio-Oil-4-2oz-Multiuse-Skincare-Oil/dp/B004AI97MA/ref=sr_1_35?dchild=1&qid=1625966984&sr=8-35\n",
      "I got here\n",
      "scraping... https://www.amazon.com/Dove-Shower-Foam-Body-Moisture/dp/B01MXDRX4Y/ref=sr_1_36?dchild=1&qid=1625966984&sr=8-36\n",
      "I got here\n",
      "scraping... https://www.amazon.com/gp/slredirect/picassoRedirect.html/ref=pa_sp_btf_browse_specialty-aps_sr_pg2_1?ie=UTF8&adId=A0486041SWBWPQI5EJCK&url=%2FHada-Labo-Tokyo-Correcting-Cream%2Fdp%2FB00OFTIP86%2Fref%3Dsr_1_37_sspa%3Fdchild%3D1%26qid%3D1625966984%26sr%3D8-37-spons%26psc%3D1&qualifier=1625966984&id=4812094197029066&widgetName=sp_btf_browse\n",
      "I got here\n",
      "scraping... https://www.amazon.com/gp/slredirect/picassoRedirect.html/ref=pa_sp_btf_browse_specialty-aps_sr_pg2_1?ie=UTF8&adId=A07414132BLAJC5BE7YFJ&url=%2FHada-Labo-Ultimate-Anti-aging-Facial%2Fdp%2FB00OFTIQ8U%2Fref%3Dsr_1_38_sspa%3Fdchild%3D1%26qid%3D1625966984%26sr%3D8-38-spons%26psc%3D1&qualifier=1625966984&id=4812094197029066&widgetName=sp_btf_browse\n",
      "I got here\n"
     ]
    },
    {
     "ename": "NameError",
     "evalue": "name 'self' is not defined",
     "output_type": "error",
     "traceback": [
      "\u001b[1;31m---------------------------------------------------------------------------\u001b[0m",
      "\u001b[1;31mNameError\u001b[0m                                 Traceback (most recent call last)",
      "\u001b[1;32m<ipython-input-83-6e54dbe48045>\u001b[0m in \u001b[0;36m<module>\u001b[1;34m\u001b[0m\n\u001b[1;32m----> 1\u001b[1;33m \u001b[0mproducts\u001b[0m \u001b[1;33m=\u001b[0m \u001b[0mget_all_products\u001b[0m\u001b[1;33m(\u001b[0m\u001b[1;34m'https://www.amazon.com/s?i=specialty-aps&rh=n%3A18505451011&fs=true&page=2&qid=1625791103&ref=sr_pg_2'\u001b[0m\u001b[1;33m,\u001b[0m \u001b[1;36m2\u001b[0m\u001b[1;33m)\u001b[0m\u001b[1;33m\u001b[0m\u001b[1;33m\u001b[0m\u001b[0m\n\u001b[0m",
      "\u001b[1;32m<ipython-input-81-9eb7c7998dcd>\u001b[0m in \u001b[0;36mget_all_products\u001b[1;34m(url, page_num)\u001b[0m\n\u001b[0;32m     14\u001b[0m         \u001b[0murl\u001b[0m \u001b[1;33m=\u001b[0m \u001b[1;34mf'https://www.amazon.com/s?i=specialty-aps&rh=n%3A18505451011&fs=true&page={page_num}&qid=1625791103&ref=sr_pg_2'\u001b[0m\u001b[1;33m\u001b[0m\u001b[1;33m\u001b[0m\u001b[0m\n\u001b[0;32m     15\u001b[0m         \u001b[0mdriver\u001b[0m\u001b[1;33m.\u001b[0m\u001b[0mget\u001b[0m\u001b[1;33m(\u001b[0m\u001b[0murl\u001b[0m\u001b[1;33m)\u001b[0m\u001b[1;33m\u001b[0m\u001b[1;33m\u001b[0m\u001b[0m\n\u001b[1;32m---> 16\u001b[1;33m         \u001b[0mpage_source\u001b[0m \u001b[1;33m=\u001b[0m \u001b[0mself\u001b[0m\u001b[1;33m.\u001b[0m\u001b[0mdriver\u001b[0m\u001b[1;33m.\u001b[0m\u001b[0mpage_source\u001b[0m\u001b[1;33m\u001b[0m\u001b[1;33m\u001b[0m\u001b[0m\n\u001b[0m\u001b[0;32m     17\u001b[0m         \u001b[0msoup\u001b[0m \u001b[1;33m=\u001b[0m \u001b[0mbs\u001b[0m\u001b[1;33m(\u001b[0m\u001b[0mpage_source\u001b[0m\u001b[1;33m)\u001b[0m\u001b[1;33m\u001b[0m\u001b[1;33m\u001b[0m\u001b[0m\n\u001b[0;32m     18\u001b[0m     \u001b[1;32mreturn\u001b[0m \u001b[0mall_amazon_products\u001b[0m\u001b[1;33m\u001b[0m\u001b[1;33m\u001b[0m\u001b[0m\n",
      "\u001b[1;31mNameError\u001b[0m: name 'self' is not defined"
     ]
    }
   ],
   "source": [
    "products = get_all_products('https://www.amazon.com/s?i=specialty-aps&rh=n%3A18505451011&fs=true&page=2&qid=1625791103&ref=sr_pg_2', 2)"
   ]
  },
  {
   "cell_type": "code",
   "execution_count": null,
   "id": "subtle-romania",
   "metadata": {
    "scrolled": true
   },
   "outputs": [],
   "source": []
  },
  {
   "cell_type": "markdown",
   "id": "configured-seller",
   "metadata": {},
   "source": [
    "## Scraping the site with a class"
   ]
  },
  {
   "cell_type": "code",
   "execution_count": null,
   "id": "measured-barrel",
   "metadata": {},
   "outputs": [],
   "source": [
    "# The class in use ------------------------------------------------------------\n",
    "class Amaz:\n",
    "    def __init__(self, url):\n",
    "        self.url = url\n",
    "        self.driver = webdriver.Chrome(executable_path=r'C:\\Users\\Jchukwuedozi\\Downloads\\chromedriver_win32\\chromedriver.exe')\n",
    "        \n",
    "    def amazon_products(self, link):\n",
    "        amazon = {}\n",
    "        self.driver.get(link)\n",
    "        self.page_source = self.driver.page_source\n",
    "        self.soup = bs(self.page_source)\n",
    "        \n",
    "        try:\n",
    "            amazon['Title'] = self.soup.find(id='productTitle').get_text(' ', strip=True)\n",
    "            amazon['Price'] = self.soup.find(class_='a-color-price').get_text(' ', strip=True)\n",
    "            amazon['Review'] = self.soup.find(class_='a-icon-alt').get_text().split(' ')[0]\n",
    "            amazon['Rating'] = self.soup.find(id='acrCustomerReviewText').get_text().split(' ')[0]\n",
    "        except Exception as e:\n",
    "            print(e)\n",
    "        try:\n",
    "            table = self.soup.find('table', class_='a-spacing-micro').find_all('tr')\n",
    "            for row in table:\n",
    "                content = row.find_all('td')\n",
    "                key = content[0].get_text(' ', strip=True)\n",
    "                value = content[1].get_text(' ', strip=True)\n",
    "                amazon[key] = value\n",
    "        except Exception as e:\n",
    "            print(e)\n",
    "        try:\n",
    "            product_details = self.soup.find('div', id='detailBullets_feature_div'\n",
    "                    ).find('ul', class_='a-unordered-list')\n",
    "            for category in product_details.find_all('li'):\n",
    "                product_key = [item.get_text(' ', strip=True).split('\\n')[0] for item in category.find_all(class_='a-text-bold')]\n",
    "                product_value = [item.find_next_sibling().get_text() for item in category.find_all(class_='a-text-bold')]\n",
    "                for key, value in zip(product_key, product_value):\n",
    "                    amazon[key] = value\n",
    "        except Exception as e:\n",
    "            print(e)\n",
    "        print('I got here')\n",
    "        return amazon\n",
    "    \n",
    "    \n",
    "    def get_all_product(self, page_num):\n",
    "        all_amazon_products = []\n",
    "        self.page_num = page_num\n",
    "        self.driver.get(self.url)\n",
    "        self.page_source = self.driver.page_source\n",
    "        self.soup = bs(self.page_source)\n",
    "        pages = int(self.soup.find_all('li', class_='a-disabled')[-1].get_text())\n",
    "        for page in range(pages): \n",
    "            links = [i.get_attribute('href') for i in self.driver.find_elements_by_css_selector('.a-link-normal.s-no-outline')]\n",
    "            for link in links:\n",
    "                all_amazon_products.append(self.amazon_products(link))\n",
    "            self.page_num +=1    \n",
    "            url = f'https://www.amazon.com/s?i=specialty-aps&rh=n%3A18505451011&fs=true&page={self.page_num}&qid=1625791103&ref=sr_pg_2'\n",
    "            self.driver.get(url)\n",
    "            self.page_source = self.driver.page_source\n",
    "            self.soup = bs(self.page_source)\n",
    "        return all_amazon_products"
   ]
  },
  {
   "cell_type": "code",
   "execution_count": null,
   "id": "forced-beatles",
   "metadata": {},
   "outputs": [],
   "source": []
  },
  {
   "cell_type": "code",
   "execution_count": null,
   "id": "excited-james",
   "metadata": {},
   "outputs": [],
   "source": []
  },
  {
   "cell_type": "code",
   "execution_count": null,
   "id": "absent-ratio",
   "metadata": {},
   "outputs": [],
   "source": []
  },
  {
   "cell_type": "code",
   "execution_count": null,
   "id": "amazing-conditioning",
   "metadata": {},
   "outputs": [],
   "source": []
  }
 ],
 "metadata": {
  "kernelspec": {
   "display_name": "Python 3 (ipykernel)",
   "language": "python",
   "name": "python3"
  },
  "language_info": {
   "codemirror_mode": {
    "name": "ipython",
    "version": 3
   },
   "file_extension": ".py",
   "mimetype": "text/x-python",
   "name": "python",
   "nbconvert_exporter": "python",
   "pygments_lexer": "ipython3",
   "version": "3.10.4"
  }
 },
 "nbformat": 4,
 "nbformat_minor": 5
}
